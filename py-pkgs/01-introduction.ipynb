{
 "cells": [
  {
   "cell_type": "markdown",
   "metadata": {},
   "source": [
    "(01:Introduction)=\n",
    "# Introduction\n",
    "<hr style=\"height:1px;border:none;color:#666;background-color:#666;\" />"
   ]
  },
  {
   "cell_type": "markdown",
   "metadata": {},
   "source": [
    "Python packages are a core element of the Python programming language and are how you write reuseable and shareable code in Python. If you’re reading this book, chances are you already know how to use packages with the help of the `import` statement in Python. For example, importing and using the `numpy` package to round pi to three decimal places is as simple as:"
   ]
  },
  {
   "cell_type": "markdown",
   "metadata": {},
   "source": [
    "```{prompt} python >>> auto\n",
    ">>> import numpy as np\n",
    ">>> np.round(np.pi, decimals=3)\n",
    "```\n",
    "\n",
    "```python\n",
    "3.142\n",
    "```"
   ]
  },
  {
   "cell_type": "markdown",
   "metadata": {},
   "source": [
    "At a minimum, a package simply bundles together code (such as functions, classes, variables, or scripts) so that it can be easily reused across different projects. However, packages often also come with extras like documentation and tests, which become exponentially more important if you wish to share your package with others.\n",
    "\n",
    "As of January 2021, there are over 280,000 packages available on the [Python Package Index (PyPI)](https://pypi.org). Packages are a key reason why Python is such a powerful and widely used programming language. The chances are that someone has already solved a problem that you’re working on, and you can benefit from their work by downloading and installing their package (which they have kindly developed and shared) by, for example, using Python's native package manager `pip` and a simple  `pip install <package-name>` at the terminal. Put simply, packages are how you make it as easy as possible to use, maintain, share and collaborate on Python code with others; whether they be your friends, work colleagues, the world, or your future self!\n",
    "\n",
    "Even if you never intend to share your code with others, making packages will ultimately save you time. Creating Python packages will make it significantly easier for you to use, reuse and maintain your code within a project and across different projects. At some point, all of us have wanted to reuse code from one project in another; this is something often accomplished through the reprehensible method of copy-and-pasting your existing code into the new project. Despite being obviously inefficient, this practice also makes it difficult to improve and maintain your code and its dependencies across projects. Creating a simple Python package will solve these problems.\n",
    "\n",
    "Regardless of your motivation, the goal of this book is to show you how to easily develop Python packages. The focus is overwhelmingly practical - we will leverage modern methods and tools to develop and maintain packages efficiently, reproducibly, and with as much automation as possible; so you can focus on writing and sharing code. Along the way, we'll also enlighten some interesting and relevant lower-level details of Python packaging and the Python programming language.\n",
    "\n",
    "```{figure} images/packaging-flowchart.png\n",
    "---\n",
    "width: 75%\n",
    "name: 01-package-flowchart\n",
    "alt: The Python packaging workflow.\n",
    "---\n",
    "The Python packaging workflow.\n",
    "```"
   ]
  },
  {
   "cell_type": "markdown",
   "metadata": {},
   "source": [
    "## Why you should create packages"
   ]
  },
  {
   "cell_type": "markdown",
   "metadata": {},
   "source": [
    "As discussed above, there are many reasons why you should develop Python packages! Let's summarise the key reasons below:\n",
    "\n",
    "- To effectively share your code with others.\n",
    "- They save you time. Even if you don't intend to share your code, packages help you easily reuse and maintain your code across multiple projects.\n",
    "- They force you to organize and document your code, such that it can be easily understood and used at a later time.\n",
    "- They isolate dependencies for your code and improve its reproducibility.\n",
    "- They are a good way to practice writing good code.\n",
    "- Packages can be used to effectively bundle up reproducible data analysis projects.\n",
    "- Finally, developing and distributing packages supports the Python ecosystem and other Python users who can benefit from your work."
   ]
  }
 ],
 "metadata": {
  "kernelspec": {
   "display_name": "Python 3",
   "language": "python",
   "name": "python3"
  },
  "language_info": {
   "codemirror_mode": {
    "name": "ipython",
    "version": 3
   },
   "file_extension": ".py",
   "mimetype": "text/x-python",
   "name": "python",
   "nbconvert_exporter": "python",
   "pygments_lexer": "ipython3",
   "version": "3.9.2"
  },
  "toc-autonumbering": false
 },
 "nbformat": 4,
 "nbformat_minor": 4
}
